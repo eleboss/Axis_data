{
 "cells": [
  {
   "cell_type": "code",
   "execution_count": 1,
   "metadata": {},
   "outputs": [
    {
     "name": "stderr",
     "output_type": "stream",
     "text": [
      "/home/eleboss/anaconda3/envs/py27/lib/python2.7/site-packages/ipykernel_launcher.py:49: DeprecationWarning: `spline` is deprecated!\n",
      "spline is deprecated in scipy 0.19.0, use Bspline class instead.\n"
     ]
    },
    {
     "data": {
      "text/plain": [
       "<matplotlib.figure.Figure at 0x7ff3c181f290>"
      ]
     },
     "metadata": {},
     "output_type": "display_data"
    }
   ],
   "source": [
    "import PID\n",
    "import time\n",
    "import matplotlib.pyplot as plt\n",
    "import numpy as np\n",
    "from scipy.interpolate import spline\n",
    "\n",
    "def test_pid(P = 0.2,  I = 0.0, D= 0.0, L=100):\n",
    "    \"\"\"Self-test PID class\n",
    "\n",
    "    .. note::\n",
    "        ...\n",
    "        for i in range(1, END):\n",
    "            pid.update(feedback)\n",
    "            output = pid.output\n",
    "            if pid.SetPoint > 0:\n",
    "                feedback += (output - (1/i))\n",
    "            if i>9:\n",
    "                pid.SetPoint = 1\n",
    "            time.sleep(0.02)\n",
    "        ---\n",
    "    \"\"\"\n",
    "    pid = PID.PID(P, I, D)\n",
    "\n",
    "    pid.SetPoint=0.0\n",
    "    pid.setSampleTime(0.01)\n",
    "\n",
    "    END = L\n",
    "    feedback = 0\n",
    "\n",
    "    feedback_list = []\n",
    "    time_list = []\n",
    "    setpoint_list = []\n",
    "\n",
    "    for i in range(1, END):\n",
    "        pid.update(feedback)\n",
    "        output = pid.output\n",
    "        if pid.SetPoint > 0:\n",
    "            feedback += (output - (1/i))\n",
    "        if i>9:\n",
    "            pid.SetPoint = 1\n",
    "        time.sleep(0.02)\n",
    "\n",
    "        feedback_list.append(feedback)\n",
    "        setpoint_list.append(pid.SetPoint)\n",
    "        time_list.append(i)\n",
    "\n",
    "    time_sm = np.array(time_list)\n",
    "    time_smooth = np.linspace(time_sm.min(), time_sm.max(), 300)\n",
    "    feedback_smooth = spline(time_list, feedback_list, time_smooth)\n",
    "\n",
    "    plt.plot(time_smooth, feedback_smooth)\n",
    "    plt.plot(time_list, setpoint_list)\n",
    "    plt.xlim((0, L))\n",
    "    plt.ylim((min(feedback_list)-0.5, max(feedback_list)+0.5))\n",
    "    plt.xlabel('time (s)')\n",
    "    plt.ylabel('PID (PV)')\n",
    "    plt.title('TEST PID')\n",
    "\n",
    "    plt.ylim((1-0.5, 1+0.5))\n",
    "\n",
    "    plt.grid(True)\n",
    "    plt.show()\n",
    "\n",
    "if __name__ == \"__main__\":\n",
    "    test_pid(1.2, 1, 0.001, L=50)\n",
    "#    test_pid(0.8, L=50)"
   ]
  },
  {
   "cell_type": "code",
   "execution_count": null,
   "metadata": {
    "collapsed": true
   },
   "outputs": [],
   "source": []
  }
 ],
 "metadata": {
  "kernelspec": {
   "display_name": "Python 2",
   "language": "python",
   "name": "python2"
  },
  "language_info": {
   "codemirror_mode": {
    "name": "ipython",
    "version": 2
   },
   "file_extension": ".py",
   "mimetype": "text/x-python",
   "name": "python",
   "nbconvert_exporter": "python",
   "pygments_lexer": "ipython2",
   "version": "2.7.14"
  }
 },
 "nbformat": 4,
 "nbformat_minor": 2
}
