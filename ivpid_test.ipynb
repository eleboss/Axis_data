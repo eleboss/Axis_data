{
 "cells": [
  {
   "cell_type": "code",
   "execution_count": 14,
   "metadata": {},
   "outputs": [
    {
     "name": "stdout",
     "output_type": "stream",
     "text": [
      "[-1.0, -0.6301485767033734, -0.42675105879318, -0.2675157027250471, -0.14847785706356148, -0.06016605354118719, -0.36547710649654214, -0.5225662395850852, -0.649525306550325, -0.74695345521771, -0.8216957290463457, -0.8787278075606995, -0.9219674951355371, -0.9544897025477, -0.9787029108103047, -0.9964951731437374, -1.0093384741452032, -1.0183875800089206, -1.0245415542132268, -1.028499750013458, -1.0308066329299814, -1.0318845068754163, -1.0320595869954545, -1.0315828063132646, -1.0306467835549777, -1.0293984703629118, -1.0279492165502204, -1.0263831765653242, -1.0247619241062667, -1.0231318532120166, -1.0215264396373287, -1.0199687535027946, -1.0184747446778628, -1.017054516759028, -1.0157136446751711, -1.0144553603094513, -1.0132799549749663, -1.0121861413980098, -1.0111715522953122, -1.0102329991757268, -1.0093666158874426, -1.00856806235646, -1.0078330797629664, -1.0071578931449197, -1.0065385256160566, -1.0059711399250775, -1.005451340175446, -1.0049755450757973, -1.0045403138426658]\n"
     ]
    },
    {
     "name": "stderr",
     "output_type": "stream",
     "text": [
      "/home/eleboss/anaconda3/envs/py27/lib/python2.7/site-packages/ipykernel_launcher.py:52: DeprecationWarning: `spline` is deprecated!\n",
      "spline is deprecated in scipy 0.19.0, use Bspline class instead.\n"
     ]
    },
    {
     "data": {
      "image/png": "[encoded data removed]",
      "text/plain": [
       "<matplotlib.figure.Figure at 0x7f5fe36019d0>"
      ]
     },
     "metadata": {},
     "output_type": "display_data"
    }
   ],
   "source": [
    "%matplotlib inline \n",
    "import PID\n",
    "import time\n",
    "import matplotlib.pyplot as plt\n",
    "import numpy as np\n",
    "from scipy.interpolate import spline\n",
    "\n",
    "def test_pid(P = 0.2,  I = 0.0, D= 0.0, L=100):\n",
    "    \"\"\"Self-test PID class\n",
    "\n",
    "    .. note::\n",
    "        ...\n",
    "        for i in range(1, END):\n",
    "            pid.update(feedback)\n",
    "            output = pid.output\n",
    "            if pid.SetPoint > 0:\n",
    "                feedback += (output - (1/i))\n",
    "            if i>9:\n",
    "                pid.SetPoint = 1\n",
    "            time.sleep(0.02)\n",
    "        ---\n",
    "    \"\"\"\n",
    "    pid = PID.PID(P, I, D)\n",
    "\n",
    "    pid.SetPoint=0.0\n",
    "    pid.setSampleTime(0.01)\n",
    "\n",
    "    END = L\n",
    "    feedback = 0\n",
    "\n",
    "    feedback_list = []\n",
    "    time_list = []\n",
    "    setpoint_list = []\n",
    "\n",
    "    for i in range(1, END):\n",
    "        pid.update(feedback)\n",
    "        output = pid.output\n",
    "        if pid.SetPoint > 0:\n",
    "            feedback += (output - (1/i))\n",
    "        else:\n",
    "            feedback += (output)\n",
    "        if i>5:\n",
    "            pid.SetPoint = -1\n",
    "        time.sleep(0.02)\n",
    "\n",
    "        feedback_list.append(feedback)\n",
    "        setpoint_list.append(pid.SetPoint)\n",
    "        time_list.append(i)\n",
    "\n",
    "    time_sm = np.array(time_list)\n",
    "    time_smooth = np.linspace(time_sm.min(), time_sm.max(), 20)\n",
    "    feedback_smooth = spline(time_list, feedback_list, time_smooth)\n",
    "    print feedback_list\n",
    "\n",
    "    plt.plot(time_list, feedback_list)\n",
    "    plt.plot(time_list, setpoint_list)\n",
    "\n",
    "    plt.xlabel('time (s)')\n",
    "    plt.ylabel('PID (PV)')\n",
    "    plt.title('TEST PID')\n",
    "\n",
    "\n",
    "\n",
    "    plt.grid(True)\n",
    "    plt.show()\n",
    "\n",
    "if __name__ == \"__main__\":\n",
    "    test_pid(0.3, 1, 0.001, L=50)\n",
    "#    test_pid(0.8, L=50)"
   ]
  },
  {
   "cell_type": "code",
   "execution_count": null,
   "metadata": {
    "collapsed": true
   },
   "outputs": [],
   "source": []
  }
 ],
 "metadata": {
  "kernelspec": {
   "display_name": "Python 2",
   "language": "python",
   "name": "python2"
  },
  "language_info": {
   "codemirror_mode": {
    "name": "ipython",
    "version": 2
   },
   "file_extension": ".py",
   "mimetype": "text/x-python",
   "name": "python",
   "nbconvert_exporter": "python",
   "pygments_lexer": "ipython2",
   "version": "2.7.14"
  }
 },
 "nbformat": 4,
 "nbformat_minor": 2
}
